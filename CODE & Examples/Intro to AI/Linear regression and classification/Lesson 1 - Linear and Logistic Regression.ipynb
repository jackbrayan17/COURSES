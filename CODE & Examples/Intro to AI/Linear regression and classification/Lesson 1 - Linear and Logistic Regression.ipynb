{
 "cells": [
  {
   "cell_type": "markdown",
   "id": "9a832ebf",
   "metadata": {},
   "source": [
    "In this notebook, we are going to create 2 AI models. One a regression model and the other a classification model.\n",
    "\n",
    "The first model is a regression model that can predict the price of new and used phones (regression).\n",
    "\n",
    "The second model is a classification that can predict whether a person has diabetes depending on the certain characteristics.\n",
    "\n",
    "We are going to have to create these models and save them to files for use later\n",
    "\n",
    "The model training process is similar for both of them\n",
    "\n",
    "1. Import the data\n",
    "2. Separate the features from the outcomes (X and Y)\n",
    "3. Clean the data (convert from string to float, remove NaNs etc.)\n",
    "4. Create and fit the model to the features and outcomes"
   ]
  },
  {
   "cell_type": "code",
   "execution_count": 14,
   "id": "ad434d90",
   "metadata": {},
   "outputs": [],
   "source": [
    "# Imports\n",
    "\n",
    "import pandas as pd\n",
    "import numpy as np\n",
    "from sklearn.linear_model import LinearRegression\n",
    "import matplotlib.pyplot as plt\n",
    "\n",
    "from sklearn.model_selection import train_test_split\n",
    "from sklearn.linear_model import LogisticRegression\n",
    "from sklearn.metrics import accuracy_score\n",
    "\n",
    "from matplotlib.widgets import TextBox\n",
    "\n",
    "import pickle"
   ]
  },
  {
   "cell_type": "markdown",
   "id": "5d23e856",
   "metadata": {},
   "source": [
    "# Task 1: Phone price prediction, regression model"
   ]
  },
  {
   "cell_type": "code",
   "execution_count": 16,
   "id": "d70fbebb",
   "metadata": {},
   "outputs": [
    {
     "name": "stdout",
     "output_type": "stream",
     "text": [
      "device_brand              object\n",
      "os                        object\n",
      "screen_size              float64\n",
      "4g                        object\n",
      "5g                        object\n",
      "rear_camera_mp           float64\n",
      "front_camera_mp          float64\n",
      "internal_memory          float64\n",
      "ram                      float64\n",
      "battery                  float64\n",
      "weight                   float64\n",
      "release_year               int64\n",
      "days_used                  int64\n",
      "normalized_used_price    float64\n",
      "normalized_new_price     float64\n",
      "dtype: object\n",
      "  device_brand       os  screen_size   4g   5g  rear_camera_mp  \\\n",
      "0        Honor  Android        14.50  yes   no            13.0   \n",
      "1        Honor  Android        17.30  yes  yes            13.0   \n",
      "2        Honor  Android        16.69  yes  yes            13.0   \n",
      "3        Honor  Android        25.50  yes  yes            13.0   \n",
      "4        Honor  Android        15.32  yes   no            13.0   \n",
      "\n",
      "   front_camera_mp  internal_memory  ram  battery  weight  release_year  \\\n",
      "0              5.0             64.0  3.0   3020.0   146.0          2020   \n",
      "1             16.0            128.0  8.0   4300.0   213.0          2020   \n",
      "2              8.0            128.0  8.0   4200.0   213.0          2020   \n",
      "3              8.0             64.0  6.0   7250.0   480.0          2020   \n",
      "4              8.0             64.0  3.0   5000.0   185.0          2020   \n",
      "\n",
      "   days_used  normalized_used_price  normalized_new_price  \n",
      "0        127               4.307572              4.715100  \n",
      "1        325               5.162097              5.519018  \n",
      "2        162               5.111084              5.884631  \n",
      "3        345               5.135387              5.630961  \n",
      "4        293               4.389995              4.947837  \n"
     ]
    }
   ],
   "source": [
    "# 1. import the data\n",
    "phone_data = pd.read_csv(\"used_device_data.csv\")\n",
    "\n",
    "# Print first 5 rows and data types\n",
    "print(phone_data.dtypes)\n",
    "print(phone_data.head())"
   ]
  },
  {
   "cell_type": "code",
   "execution_count": 27,
   "id": "46675ef4",
   "metadata": {},
   "outputs": [
    {
     "name": "stdout",
     "output_type": "stream",
     "text": [
      "OSs: Index([0, 1, 2, 3], dtype='int64'), brands: Index([ 0,  1,  2,  3,  4,  5,  6,  7,  8,  9, 10, 11, 12, 13, 14, 15, 16, 17,\n",
      "       18, 19, 20, 21, 22, 23, 24, 25, 26, 27, 28, 29, 30, 31, 32, 33],\n",
      "      dtype='int64')\n",
      "   device_brand  os  screen_size  4g  5g  rear_camera_mp  front_camera_mp  \\\n",
      "0             0   0        14.50   0   0            13.0              5.0   \n",
      "1             0   0        17.30   0   0            13.0             16.0   \n",
      "2             0   0        16.69   0   0            13.0              8.0   \n",
      "3             0   0        25.50   0   0            13.0              8.0   \n",
      "4             0   0        15.32   0   0            13.0              8.0   \n",
      "5             0   0        16.23   0   0            13.0              8.0   \n",
      "6             0   0        13.84   0   0             8.0              5.0   \n",
      "7             0   0        15.77   0   0            13.0              8.0   \n",
      "8             0   0        15.32   0   0            13.0             16.0   \n",
      "9             0   0        16.23   0   0            13.0              8.0   \n",
      "\n",
      "   internal_memory  ram  battery  weight  release_year  days_used  \\\n",
      "0             64.0  3.0   3020.0   146.0          2020        127   \n",
      "1            128.0  8.0   4300.0   213.0          2020        325   \n",
      "2            128.0  8.0   4200.0   213.0          2020        162   \n",
      "3             64.0  6.0   7250.0   480.0          2020        345   \n",
      "4             64.0  3.0   5000.0   185.0          2020        293   \n",
      "5             64.0  4.0   4000.0   176.0          2020        223   \n",
      "6             32.0  2.0   3020.0   144.0          2020        234   \n",
      "7             64.0  4.0   3400.0   164.0          2020        219   \n",
      "8            128.0  6.0   4000.0   165.0          2020        161   \n",
      "9            128.0  6.0   4000.0   176.0          2020        327   \n",
      "\n",
      "   normalized_used_price  normalized_new_price  \n",
      "0               4.307572              4.715100  \n",
      "1               5.162097              5.519018  \n",
      "2               5.111084              5.884631  \n",
      "3               5.135387              5.630961  \n",
      "4               4.389995              4.947837  \n",
      "5               4.413889              5.060694  \n",
      "6               3.878259              4.518958  \n",
      "7               4.729421              5.188726  \n",
      "8               4.886054              5.299916  \n",
      "9               4.773224              5.073610  \n"
     ]
    }
   ],
   "source": [
    "# Convert 4g and 5g columns to 1s (yes) and 0s (no)\n",
    "phone_data['4g'], unique_4g = pd.factorize(phone_data['4g'])\n",
    "phone_data['5g'], unique_5g = pd.factorize(phone_data['5g'])\n",
    "phone_data['os'], unique_os = pd.factorize(phone_data['os'])\n",
    "phone_data['device_brand'], unique_brand = pd.factorize(phone_data['device_brand'])\n",
    "\n",
    "# Drop na\n",
    "phone_data = phone_data.apply(lambda x: x.fillna(x.mean()))\n",
    "\n",
    "print(f\"OSs: {unique_os}, brands: {unique_brand}\")\n",
    "print(phone_data.head(10))"
   ]
  },
  {
   "cell_type": "code",
   "execution_count": 28,
   "id": "36747037",
   "metadata": {},
   "outputs": [
    {
     "name": "stdout",
     "output_type": "stream",
     "text": [
      "Model Accuracy: 0.55\n"
     ]
    }
   ],
   "source": [
    "# Separate features from targets\n",
    "target_columns = [ column for column in phone_data.columns if column not in [\"normalized_used_price\", \"normalized_new_price\"] ]\n",
    "\n",
    "X = phone_data[[\"device_brand\", \"os\", \"screen_size\", \"4g\", \"5g\", \"rear_camera_mp\", \"front_camera_mp\", \"internal_memory\", \"ram\", \"battery\", \"weight\", \"release_year\", \"days_used\"]]\n",
    "y = phone_data['normalized_new_price']\n",
    "\n",
    "# Train-test split\n",
    "X_train, X_test, y_train, y_test = train_test_split(X, y, test_size=0.3, random_state=42)\n",
    "\n",
    "# Train the model\n",
    "model = LinearRegression()\n",
    "model.fit(X_train, y_train)\n",
    "\n",
    "# Evaluate the model\n",
    "y_pred = model.predict(X_test)\n",
    "accuracy = model.score(X_test, y_test)\n",
    "print(f'Model Accuracy: {accuracy:.2f}')\n",
    "\n",
    "# Saving the model to a file\n",
    "with open('phone_model.pkl', 'wb') as f:\n",
    "    pickle.dump(model, f)"
   ]
  },
  {
   "cell_type": "markdown",
   "id": "e03edf38",
   "metadata": {},
   "source": [
    "# Task 2: Diabetes prediction, classification model"
   ]
  },
  {
   "cell_type": "code",
   "execution_count": 4,
   "id": "c79dfbd5",
   "metadata": {},
   "outputs": [
    {
     "name": "stdout",
     "output_type": "stream",
     "text": [
      "Pregnancies                   int64\n",
      "Glucose                       int64\n",
      "BloodPressure                 int64\n",
      "SkinThickness                 int64\n",
      "Insulin                       int64\n",
      "BMI                         float64\n",
      "DiabetesPedigreeFunction    float64\n",
      "Age                           int64\n",
      "Outcome                       int64\n",
      "dtype: object\n",
      "   Pregnancies  Glucose  BloodPressure  SkinThickness  Insulin   BMI  \\\n",
      "0            6      148             72             35        0  33.6   \n",
      "1            1       85             66             29        0  26.6   \n",
      "2            8      183             64              0        0  23.3   \n",
      "3            1       89             66             23       94  28.1   \n",
      "4            0      137             40             35      168  43.1   \n",
      "\n",
      "   DiabetesPedigreeFunction  Age  Outcome  \n",
      "0                     0.627   50        1  \n",
      "1                     0.351   31        0  \n",
      "2                     0.672   32        1  \n",
      "3                     0.167   21        0  \n",
      "4                     2.288   33        1  \n"
     ]
    }
   ],
   "source": [
    "diabetes_data = pd.read_csv(\"diabetes.csv\")\n",
    "\n",
    "# Print first 5 rows and data types\n",
    "print(diabetes_data.dtypes)\n",
    "print(diabetes_data.head())"
   ]
  },
  {
   "cell_type": "code",
   "execution_count": 13,
   "id": "afbc1f52",
   "metadata": {},
   "outputs": [
    {
     "name": "stdout",
     "output_type": "stream",
     "text": [
      "Model Accuracy: 0.74\n"
     ]
    }
   ],
   "source": [
    "X = diabetes_data[[\"Pregnancies\", \"Glucose\", \"BloodPressure\", \"SkinThickness\", \"Insulin\", \"BMI\", \"DiabetesPedigreeFunction\", \"Age\"]]\n",
    "y = diabetes_data[\"Outcome\"]\n",
    "\n",
    "# Train-test split\n",
    "X_train, X_test, y_train, y_test = train_test_split(X, y, test_size=0.3, random_state=42)\n",
    "\n",
    "# Train the model\n",
    "model = LogisticRegression(max_iter=200)\n",
    "model.fit(X_train, y_train)\n",
    "\n",
    "# Evaluate the model\n",
    "y_pred = model.predict(X_test)\n",
    "accuracy = accuracy_score(y_test, y_pred)\n",
    "print(f'Model Accuracy: {accuracy:.2f}')\n",
    "\n",
    "# Saving the model to a file\n",
    "with open('diabetes_model.pkl', 'wb') as f:\n",
    "    pickle.dump(model, f)"
   ]
  },
  {
   "cell_type": "markdown",
   "id": "dd182f0c",
   "metadata": {},
   "source": [
    "# Task 3: using the models applications, "
   ]
  },
  {
   "cell_type": "code",
   "execution_count": null,
   "id": "79244dce",
   "metadata": {},
   "outputs": [],
   "source": []
  },
  {
   "cell_type": "code",
   "execution_count": null,
   "id": "e685a791",
   "metadata": {},
   "outputs": [],
   "source": []
  }
 ],
 "metadata": {
  "kernelspec": {
   "display_name": "Python 3 (ipykernel)",
   "language": "python",
   "name": "python3"
  },
  "language_info": {
   "codemirror_mode": {
    "name": "ipython",
    "version": 3
   },
   "file_extension": ".py",
   "mimetype": "text/x-python",
   "name": "python",
   "nbconvert_exporter": "python",
   "pygments_lexer": "ipython3",
   "version": "3.11.5"
  }
 },
 "nbformat": 4,
 "nbformat_minor": 5
}

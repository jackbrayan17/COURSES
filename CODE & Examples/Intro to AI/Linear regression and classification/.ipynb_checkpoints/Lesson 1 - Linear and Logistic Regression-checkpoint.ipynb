{
 "cells": [
  {
   "cell_type": "markdown",
   "id": "9a832ebf",
   "metadata": {},
   "source": [
    "In this notebook, we are going to create 2 AI models. One a regression model and the other a classification model.\n",
    "\n",
    "The first model is a regression model that can predict the price of new and used phones (regression).\n",
    "\n",
    "The second model is a classification that can predict whether a person has diabetes depending on the certain characteristics.\n",
    "\n",
    "We are going to have to create these models and save them to files for use later\n",
    "\n",
    "The model training process is similar for both of them\n",
    "\n",
    "1. Import the data\n",
    "2. Separate the features from the outcomes (X and Y)\n",
    "3. Clean the data (convert from string to float, remove NaNs etc.)\n",
    "4. Create and fit the model to the features and outcomes"
   ]
  },
  {
   "cell_type": "code",
   "execution_count": 14,
   "id": "ad434d90",
   "metadata": {},
   "outputs": [],
   "source": [
    "# Imports\n",
    "\n",
    "import pandas as pd\n",
    "import numpy as np\n",
    "from sklearn.linear_model import LinearRegression\n",
    "import matplotlib.pyplot as plt\n",
    "\n",
    "from sklearn.model_selection import train_test_split\n",
    "from sklearn.linear_model import LogisticRegression\n",
    "from sklearn.metrics import accuracy_score\n",
    "\n",
    "from matplotlib.widgets import TextBox\n",
    "\n",
    "import pickle"
   ]
  },
  {
   "cell_type": "markdown",
   "id": "5d23e856",
   "metadata": {},
   "source": [
    "# Task 1: Phone price prediction, regression model"
   ]
  },
  {
   "cell_type": "code",
   "execution_count": null,
   "id": "d70fbebb",
   "metadata": {},
   "outputs": [],
   "source": [
    "# 1. import the data\n",
    "phone_data = pd.read_csv(\"used_device_data.csv\")\n",
    "\n",
    "# Print first 5 rows and data types\n",
    "print(phone_data.dtypes)\n",
    "print(phone_data.head())"
   ]
  },
  {
   "cell_type": "code",
   "execution_count": null,
   "id": "46675ef4",
   "metadata": {},
   "outputs": [],
   "source": [
    "# Convert 4g and 5g columns to 1s (yes) and 0s (no)\n",
    "phone_data['4g'], unique_4g = pd.factorize(phone_data['4g'])\n",
    "phone_data['5g'], unique_5g = pd.factorize(phone_data['5g'])\n",
    "phone_data['os'], unique_os = pd.factorize(phone_data['os'])\n",
    "phone_data['device_brand'], unique_brand = pd.factorize(phone_data['device_brand'])\n",
    "\n",
    "# Drop na\n",
    "phone_data = phone_data.apply(lambda x: x.fillna(x.mean()))\n",
    "\n",
    "print(f\"OSs: {unique_os}, brands: {unique_brand}\")"
   ]
  },
  {
   "cell_type": "code",
   "execution_count": null,
   "id": "36747037",
   "metadata": {},
   "outputs": [],
   "source": [
    "# Separate features from targets\n",
    "target_columns = [ column for column in phone_data.columns if column not in [\"normalized_used_price\", \"normalized_new_price\"] ]\n",
    "\n",
    "X = phone_data[[\"device_brand\", \"os\", \"screen_size\", \"4g\", \"5g\", \"rear_camera_mp\", \"front_camera_mp\", \"internal_memory\", \"ram\", \"battery\", \"weight\", \"release_year\", \"days_used\"]]\n",
    "y = phone_data['normalized_new_price']\n",
    "\n",
    "# Train-test split\n",
    "X_train, X_test, y_train, y_test = train_test_split(X, y, test_size=0.3, random_state=42)\n",
    "\n",
    "# Train the model\n",
    "model = LinearRegression()\n",
    "model.fit(X_train, y_train)\n",
    "\n",
    "# Evaluate the model\n",
    "y_pred = model.predict(X_test)\n",
    "accuracy = model.score(X_test, y_test)\n",
    "print(f'Model Accuracy: {accuracy:.2f}')\n",
    "\n",
    "# Saving the model to a file\n",
    "with open('phone_model.pkl', 'wb') as f:\n",
    "    pickle.dump(model, f)"
   ]
  },
  {
   "cell_type": "markdown",
   "id": "e03edf38",
   "metadata": {},
   "source": [
    "# Task 2: Diabetes prediction, classification model"
   ]
  },
  {
   "cell_type": "code",
   "execution_count": 4,
   "id": "c79dfbd5",
   "metadata": {},
   "outputs": [
    {
     "name": "stdout",
     "output_type": "stream",
     "text": [
      "Pregnancies                   int64\n",
      "Glucose                       int64\n",
      "BloodPressure                 int64\n",
      "SkinThickness                 int64\n",
      "Insulin                       int64\n",
      "BMI                         float64\n",
      "DiabetesPedigreeFunction    float64\n",
      "Age                           int64\n",
      "Outcome                       int64\n",
      "dtype: object\n",
      "   Pregnancies  Glucose  BloodPressure  SkinThickness  Insulin   BMI  \\\n",
      "0            6      148             72             35        0  33.6   \n",
      "1            1       85             66             29        0  26.6   \n",
      "2            8      183             64              0        0  23.3   \n",
      "3            1       89             66             23       94  28.1   \n",
      "4            0      137             40             35      168  43.1   \n",
      "\n",
      "   DiabetesPedigreeFunction  Age  Outcome  \n",
      "0                     0.627   50        1  \n",
      "1                     0.351   31        0  \n",
      "2                     0.672   32        1  \n",
      "3                     0.167   21        0  \n",
      "4                     2.288   33        1  \n"
     ]
    }
   ],
   "source": [
    "diabetes_data = pd.read_csv(\"diabetes.csv\")\n",
    "\n",
    "# Print first 5 rows and data types\n",
    "print(diabetes_data.dtypes)\n",
    "print(diabetes_data.head())"
   ]
  },
  {
   "cell_type": "code",
   "execution_count": 13,
   "id": "1c05908c",
   "metadata": {},
   "outputs": [
    {
     "name": "stdout",
     "output_type": "stream",
     "text": [
      "Model Accuracy: 0.74\n"
     ]
    }
   ],
   "source": [
    "X = diabetes_data[[\"Pregnancies\", \"Glucose\", \"BloodPressure\", \"SkinThickness\", \"Insulin\", \"BMI\", \"DiabetesPedigreeFunction\", \"Age\"]]\n",
    "y = diabetes_data[\"Outcome\"]\n",
    "\n",
    "# Train-test split\n",
    "X_train, X_test, y_train, y_test = train_test_split(X, y, test_size=0.3, random_state=42)\n",
    "\n",
    "# Train the model\n",
    "model = LogisticRegression(max_iter=200)\n",
    "model.fit(X_train, y_train)\n",
    "\n",
    "# Evaluate the model\n",
    "y_pred = model.predict(X_test)\n",
    "accuracy = accuracy_score(y_test, y_pred)\n",
    "print(f'Model Accuracy: {accuracy:.2f}')\n",
    "\n",
    "# Saving the model to a file\n",
    "with open('diabetes_model.pkl', 'wb') as f:\n",
    "    pickle.dump(model, f)"
   ]
  },
  {
   "cell_type": "markdown",
   "id": "dd182f0c",
   "metadata": {},
   "source": [
    "# Task 3: using the models applications, "
   ]
  },
  {
   "cell_type": "code",
   "execution_count": null,
   "id": "b4ed64c5",
   "metadata": {},
   "outputs": [],
   "source": []
  },
  {
   "cell_type": "code",
   "execution_count": null,
   "id": "7c13b7dc",
   "metadata": {},
   "outputs": [],
   "source": []
  }
 ],
 "metadata": {
  "kernelspec": {
   "display_name": "Python 3 (ipykernel)",
   "language": "python",
   "name": "python3"
  },
  "language_info": {
   "codemirror_mode": {
    "name": "ipython",
    "version": 3
   },
   "file_extension": ".py",
   "mimetype": "text/x-python",
   "name": "python",
   "nbconvert_exporter": "python",
   "pygments_lexer": "ipython3",
   "version": "3.11.5"
  }
 },
 "nbformat": 4,
 "nbformat_minor": 5
}
